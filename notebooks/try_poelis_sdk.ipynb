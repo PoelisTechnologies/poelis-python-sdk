{
 "cells": [
  {
   "cell_type": "markdown",
   "metadata": {},
   "source": [
    "# Poelis Python SDK Tutorial\n",
    "\n",
    "Welcome to the Poelis Python SDK tutorial! This notebook will guide you through setting up and using the SDK to interact with the Poelis API.\n",
    "\n",
    "## What is Poelis?\n",
    "\n",
    "Poelis is a platform for managing hierarchical data structures, products, items, and their properties. The Python SDK provides a convenient way to interact with the Poelis API from your Python applications.\n",
    "\n",
    "## Table of Contents\n",
    "\n",
    "1. [Installation](#Installation)\n",
    "2. [IDE Compatibility & Autocomplete](#IDE-Compatibility--Autocomplete)\n",
    "3. [PyCharm Users: How to Use the SDK](#PyCharm-Users-How-to-Use-the-SDK)\n",
    "4. [VS Code Users: Perfect Autocomplete Experience](#VS-Code-Users-Perfect-Autocomplete-Experience)\n",
    "5. [Authentication Setup](#Authentication-Setup)\n",
    "6. [Basic Client Setup](#Basic-Client-Setup)\n",
    "7. [Browser Interface](#Browser-Interface)\n",
    "\n"
   ]
  },
  {
   "cell_type": "markdown",
   "metadata": {},
   "source": [
    "## 1. Installation\n",
    "\n",
    "First, let's install the Poelis Python SDK. The SDK requires Python 3.11 or higher.\n",
    "\n",
    "```bash\n",
    "pip install -U poelis-sdk\n",
    "```\n",
    "\n",
    "### Requirements\n",
    "- Python >= 3.11\n",
    "- Access to a Poelis API endpoint\n",
    "- Valid API credentials (API key + organization ID)\n"
   ]
  },
  {
   "cell_type": "code",
   "execution_count": null,
   "metadata": {},
   "outputs": [],
   "source": [
    "!pip install -U poelis-sdk"
   ]
  },
  {
   "cell_type": "markdown",
   "metadata": {},
   "source": [
    "## IDE Compatibility & Autocomplete\n",
    "\n",
    "The Poelis SDK works great in both **VS Code** and **PyCharm**, but there are some differences in how autocomplete behaves:\n",
    "\n",
    "### VS Code (Recommended for Best Experience)\n",
    "- ✅ **Perfect autocomplete**: Dynamic attributes work automatically\n",
    "- ✅ **No setup required**: Just start typing and press TAB\n",
    "- ✅ **Fast and responsive**: Real-time completion suggestions\n",
    "- ✅ **Works in Jupyter notebooks**: Full autocomplete support\n",
    "\n",
    "### PyCharm (Good, but with limitations)\n",
    "- ⚠️ **Limited autocomplete**: Uses static analysis, not runtime introspection\n",
    "- ⚠️ **Requires priming**: Call `names()` at each level for autocomplete\n",
    "- ✅ **Code works perfectly**: All functionality works, just autocomplete is limited\n",
    "- ✅ **Workarounds available**: Interactive selectors and helper functions\n",
    "\n",
    "**Recommendation**: Use **VS Code** for the best autocomplete experience, especially in Jupyter notebooks.\n"
   ]
  },
  {
   "cell_type": "markdown",
   "metadata": {},
   "source": [
    "## 2. Authentication Setup\n",
    "\n",
    "Before you can use the SDK, obtain your API credentials from the Poelis web interface.\n",
    "\n",
    "### Getting Your Credentials\n",
    "\n",
    "1. **Navigate to Organization Settings → API Keys** in the Poelis web interface\n",
    "2. **Create a new API key**:\n",
    "   - Choose a descriptive name\n",
    "   - Select appropriate scopes\n",
    "   - Copy the key immediately\n",
    "3. **Note your Organization ID** (displayed in the same section)\n",
    "\n",
    "### Environment Variables (Recommended)\n",
    "\n",
    "For security, store your credentials as environment variables:\n",
    "\n",
    "```bash\n",
    "export POELIS_API_KEY=poelis_live_A1B2C3...\n",
    "export POELIS_ORG_ID=org_id_001\n",
    "```\n"
   ]
  },
  {
   "cell_type": "markdown",
   "metadata": {},
   "source": [
    "## 3. Basic Client Setup\n",
    "\n",
    "There are two ways to initialize the Poelis client:"
   ]
  },
  {
   "cell_type": "code",
   "execution_count": null,
   "metadata": {},
   "outputs": [],
   "source": [
    "# Import the SDK\n",
    "from poelis_sdk import PoelisClient\n",
    "\n",
    "# Check if the SDK is properly installed\n",
    "print(\"Poelis SDK imported successfully!\")\n",
    "print(f\"PoelisClient class: {PoelisClient}\")\n"
   ]
  },
  {
   "cell_type": "markdown",
   "metadata": {},
   "source": [
    "### Method 1: Direct Initialization (Simplified)\n"
   ]
  },
  {
   "cell_type": "code",
   "execution_count": null,
   "metadata": {},
   "outputs": [],
   "source": [
    "# Manual initialization (replace with your credentials)\n",
    "poelis = PoelisClient(\n",
    "    api_key=\"your_api_key_here\",\n",
    "    org_id=\"your_org_id_here\"\n",
    ")"
   ]
  },
  {
   "cell_type": "markdown",
   "metadata": {},
   "source": [
    "### Method 2: From Environment Variables (Recommended)\n",
    "\n",
    "```python\n",
    "client = PoelisClient.from_env()\n",
    "```\n",
    "\n",
    "This method automatically reads the `POELIS_API_KEY` and `POELIS_ORG_ID` environment variables."
   ]
  },
  {
   "cell_type": "code",
   "execution_count": null,
   "metadata": {},
   "outputs": [],
   "source": [
    "# Example: Initialize client (replace with your actual credentials)\n",
    "# For this demo, we'll use placeholder values\n",
    "# In practice, use environment variables or replace with your actual credentials\n",
    "\n",
    "try:\n",
    "    # Try to initialize from environment variables first\n",
    "    poelis = PoelisClient.from_env()\n",
    "    print(\"✅ Client initialized from environment variables\")\n",
    "    print(f\"Base URL: {client.base_url}\")\n",
    "    print(f\"Organization ID: {client.org_id}\")\n",
    "except ValueError as e:\n",
    "    print(f\"❌ Environment variables not set: {e}\")\n",
    "    print(\"Please set POELIS_API_KEY and POELIS_ORG_ID (POELIS_BASE_URL is optional)\")\n",
    "    \n"
   ]
  },
  {
   "cell_type": "markdown",
   "metadata": {},
   "source": [
    "## 4. Browser Interface - Interactive Exploration\n",
    "\n",
    "The Poelis SDK provides a powerful **browser interface** for interactive exploration of your data hierarchy. This is often the best way to start exploring your data!\n",
    "\n",
    "### What is the Browser Interface?\n",
    "\n",
    "The browser interface allows you to navigate through your data using **dot notation** and **tab completion**:\n",
    "- `client.browser` - Start here\n",
    "- `client.browser.<workspace>` - Access a specific workspace\n",
    "- `client.browser.<workspace>.<product>` - Access a specific product\n",
    "- `client.browser.<workspace>.<product>.<item>` - Access a specific item\n",
    "- And so on...\n",
    "\n",
    "### IDE Differences\n",
    "\n",
    "**VS Code**: Perfect autocomplete works automatically - just press TAB after each dot.\n",
    "\n",
    "**PyCharm**: Autocomplete is limited due to static analysis. Use the workarounds shown above (interactive selectors, print helpers, etc.).\n",
    "\n"
   ]
  },
  {
   "cell_type": "code",
   "execution_count": null,
   "metadata": {},
   "outputs": [],
   "source": [
    "from poelis_sdk import PoelisClient\n",
    "\n",
    "# 1) Create the client\n",
    "poelis = PoelisClient(\n",
    "    api_key=\"YOUR_API_KEY\",\n",
    "    org_id=\"YOUR_ORG_ID\",\n",
    ")"
   ]
  },
  {
   "cell_type": "markdown",
   "metadata": {},
   "source": [
    "## VS Code Users: Perfect Autocomplete Experience\n",
    "\n",
    "If you're using VS Code, you get the full autocomplete experience automatically:\n",
    "\n",
    "### Step 1: Initialize Client\n",
    "```python\n",
    "from poelis_sdk import PoelisClient\n",
    "\n",
    "poelis = PoelisClient(\n",
    "    api_key=\"your_api_key\",\n",
    "    org_id=\"your_org_id\"\n",
    ")\n",
    "```\n",
    "\n",
    "### Step 2: Use TAB Completion\n",
    "```python\n",
    "# Type this and press TAB after the dot:\n",
    "poelis.browser.  # ← TAB shows all workspaces\n",
    "\n",
    "# Select a workspace and continue:\n",
    "ws = poelis.browser.demoWS\n",
    "ws.  # ← TAB shows all products\n",
    "\n",
    "# Continue navigating:\n",
    "prod = ws.my_product\n",
    "prod.  # ← TAB shows all items\n",
    "\n",
    "# Access properties:\n",
    "item = prod.demoItem\n",
    "item.property_name.value  # ← TAB shows all properties\n",
    "```\n",
    "\n",
    "**That's it!** VS Code automatically discovers dynamic attributes and provides perfect autocomplete.\n"
   ]
  },
  {
   "cell_type": "code",
   "execution_count": null,
   "metadata": {},
   "outputs": [],
   "source": [
    "# 3) Access a property’s value and category via dot paths\n",
    "# Example (replace names with your actual names shown by TAB):\n",
    "workspace = poelis.browser.demoWS"
   ]
  },
  {
   "cell_type": "code",
   "execution_count": null,
   "metadata": {},
   "outputs": [],
   "source": [
    "# 4) Access a property’s value and category via dot paths\n",
    "mass_value = workspace.demoProduct.demoItem.demoSubItem.demoPropertyMass.value\n",
    "mass_category = workspace.demoProduct.demoItem.demoSubItem.demoPropertyMass.category\n",
    "\n",
    "print(\"property value:\", mass_value)\n",
    "print(\"property category:\", mass_category)"
   ]
  },
  {
   "cell_type": "markdown",
   "metadata": {},
   "source": [
    "## PyCharm Users: How to Use the SDK\n",
    "\n",
    "If you're using PyCharm (especially in Jupyter notebooks), here are the best ways to work with the SDK:\n",
    "\n",
    "\n",
    "### Method 1: Print and Copy-Paste\n",
    "```python\n",
    "# Print available workspaces\n",
    "workspaces = poelis.browser.names()\n",
    "print(workspaces)\n",
    "```\n",
    "Output:\n",
    "\n",
    "\n",
    "['demoWS', 'universal_hydrogen']\n",
    "\n",
    "```python\n",
    "# Copy-paste the line you need:\n",
    "ws = poelis.browser.demoWS  # Works perfectly!\n",
    "```\n",
    "\n",
    "```python\n",
    "# Print available products\n",
    "products = ws.names()\n",
    "print(products)\n",
    "```\n",
    "Output:\n",
    "\n",
    "\n",
    "['demoProduct', 'prod1']\n",
    "\n",
    "```python\n",
    "# Copy-paste the line you need:\n",
    "prod = ws.demoProduct \n",
    "```\n",
    "\n",
    "### Method 2: Dictionary Access (Always Works)\n",
    "```python\n",
    "# Always works in any IDE\n",
    "workspaces = poelis.browser.names()\n",
    "ws = poelis.browser[workspaces[0]]  # Access by name\n",
    "\n",
    "products = ws.names()\n",
    "prod = ws[products[0]]  # Access by name\n",
    "```\n",
    "\n",
    "**The code works perfectly in PyCharm** - these are just workarounds for when autocomplete doesn't show the dynamic attributes.\n"
   ]
  },
  {
   "cell_type": "code",
   "execution_count": null,
   "metadata": {},
   "outputs": [],
   "source": [
    "workspaces = poelis.browser.names()\n",
    "print(workspaces)"
   ]
  },
  {
   "cell_type": "code",
   "execution_count": null,
   "metadata": {},
   "outputs": [],
   "source": [
    "ws = poelis.browser.demoWS # Replace with your workspace name"
   ]
  },
  {
   "cell_type": "code",
   "execution_count": null,
   "metadata": {},
   "outputs": [],
   "source": [
    "products = ws.names()\n",
    "print(products)"
   ]
  },
  {
   "cell_type": "code",
   "execution_count": null,
   "metadata": {},
   "outputs": [],
   "source": [
    "prod = ws.demoProduct # Replace with your product name"
   ]
  },
  {
   "cell_type": "code",
   "execution_count": null,
   "metadata": {},
   "outputs": [],
   "source": [
    "item = prod.demoItem # Replace with your item name\n",
    "\n",
    "property_value = item.demoProperty.value # Replace with your property name\n",
    "property_category = item.demoProperty.category # Replace with your property name\n",
    "\n",
    "print(\"Property value:\", property_value)\n",
    "print(\"Property category:\", property_category)"
   ]
  }
 ],
 "metadata": {
  "kernelspec": {
   "display_name": "Python 3",
   "language": "python",
   "name": "python3"
  },
  "language_info": {
   "codemirror_mode": {
    "name": "ipython",
    "version": 3
   },
   "file_extension": ".py",
   "mimetype": "text/x-python",
   "name": "python",
   "nbconvert_exporter": "python",
   "pygments_lexer": "ipython3",
   "version": "3.11.13"
  }
 },
 "nbformat": 4,
 "nbformat_minor": 2
}
